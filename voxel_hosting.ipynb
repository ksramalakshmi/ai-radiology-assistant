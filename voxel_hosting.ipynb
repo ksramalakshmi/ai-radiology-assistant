{
 "cells": [
  {
   "cell_type": "code",
   "execution_count": 20,
   "id": "c1551950",
   "metadata": {},
   "outputs": [],
   "source": [
    "import fiftyone as fo\n",
    "import os\n",
    "import glob"
   ]
  },
  {
   "cell_type": "code",
   "execution_count": 28,
   "id": "0da8b132",
   "metadata": {},
   "outputs": [],
   "source": [
    "dataset_root = \"/Users/ramalakshmi/Documents/xray_classification/classifier_dataset/train\""
   ]
  },
  {
   "cell_type": "code",
   "execution_count": 29,
   "id": "014fef0b",
   "metadata": {},
   "outputs": [],
   "source": [
    "# Delete old dataset if exists (to avoid duplicates)\n",
    "if fo.dataset_exists(\"xray_crops\"):\n",
    "    fo.delete_dataset(\"xray_crops\")\n",
    "\n",
    "dataset = fo.Dataset(\"xray_crops\")"
   ]
  },
  {
   "cell_type": "code",
   "execution_count": 30,
   "id": "59fde1a7",
   "metadata": {},
   "outputs": [],
   "source": [
    "# Add samples dynamically\n",
    "for class_name in os.listdir(dataset_root):\n",
    "    class_dir = os.path.join(dataset_root, class_name)\n",
    "    if not os.path.isdir(class_dir):\n",
    "        continue\n",
    "\n",
    "    image_paths = glob.glob(os.path.join(class_dir, \"*.png\"))\n",
    "\n",
    "    for img_path in image_paths:\n",
    "        sample = fo.Sample(filepath=img_path)\n",
    "        # directly assign Classification\n",
    "        sample[\"ground_truth\"] = fo.Classification(label=class_name)\n",
    "        dataset.add_sample(sample)"
   ]
  },
  {
   "cell_type": "code",
   "execution_count": 31,
   "id": "5077b8ee",
   "metadata": {},
   "outputs": [],
   "source": [
    "dataset.persistent = True"
   ]
  },
  {
   "cell_type": "code",
   "execution_count": 32,
   "id": "10f4e0b1",
   "metadata": {},
   "outputs": [],
   "source": [
    "for class_name in os.listdir(dataset_root):\n",
    "    class_dir = os.path.join(dataset_root, class_name)\n",
    "    if not os.path.isdir(class_dir):\n",
    "        continue\n",
    "\n",
    "    image_paths = glob.glob(os.path.join(class_dir, \"*.png\"))\n",
    "\n",
    "    for img_path in image_paths:\n",
    "        sample = fo.Sample(filepath=img_path)\n",
    "        sample[\"ground_truth\"] = fo.Classification(label=class_name)\n",
    "        dataset.add_sample(sample)"
   ]
  },
  {
   "cell_type": "code",
   "execution_count": 33,
   "id": "68a232bf",
   "metadata": {},
   "outputs": [
    {
     "name": "stdout",
     "output_type": "stream",
     "text": [
      "Name:        xray_crops\n",
      "Media type:  image\n",
      "Num samples: 764\n",
      "Persistent:  True\n",
      "Tags:        []\n",
      "Sample fields:\n",
      "    id:               fiftyone.core.fields.ObjectIdField\n",
      "    filepath:         fiftyone.core.fields.StringField\n",
      "    tags:             fiftyone.core.fields.ListField(fiftyone.core.fields.StringField)\n",
      "    metadata:         fiftyone.core.fields.EmbeddedDocumentField(fiftyone.core.metadata.ImageMetadata)\n",
      "    created_at:       fiftyone.core.fields.DateTimeField\n",
      "    last_modified_at: fiftyone.core.fields.DateTimeField\n",
      "    ground_truth:     fiftyone.core.fields.EmbeddedDocumentField(fiftyone.core.labels.Classification)\n"
     ]
    }
   ],
   "source": [
    "print(dataset)"
   ]
  },
  {
   "cell_type": "code",
   "execution_count": 34,
   "id": "fc831001",
   "metadata": {},
   "outputs": [
    {
     "data": {
      "text/html": [
       "\n",
       "        <iframe\n",
       "            width=\"100%\"\n",
       "            height=\"800\"\n",
       "            src=\"http://localhost:5151/?notebook=True&subscription=e9ae77d6-536d-458c-abc3-c416c5e0e126\"\n",
       "            frameborder=\"0\"\n",
       "            allowfullscreen\n",
       "            \n",
       "        ></iframe>\n",
       "        "
      ],
      "text/plain": [
       "<IPython.lib.display.IFrame at 0x1579b9090>"
      ]
     },
     "metadata": {},
     "output_type": "display_data"
    },
    {
     "name": "stdout",
     "output_type": "stream",
     "text": [
      "Notebook sessions cannot wait\n"
     ]
    }
   ],
   "source": [
    "# Launch FiftyOne App\n",
    "session = fo.launch_app(dataset)\n",
    "session.wait()"
   ]
  },
  {
   "cell_type": "code",
   "execution_count": null,
   "id": "b0ef6cc0",
   "metadata": {},
   "outputs": [],
   "source": []
  }
 ],
 "metadata": {
  "kernelspec": {
   "display_name": ".venv",
   "language": "python",
   "name": "python3"
  },
  "language_info": {
   "codemirror_mode": {
    "name": "ipython",
    "version": 3
   },
   "file_extension": ".py",
   "mimetype": "text/x-python",
   "name": "python",
   "nbconvert_exporter": "python",
   "pygments_lexer": "ipython3",
   "version": "3.13.1"
  }
 },
 "nbformat": 4,
 "nbformat_minor": 5
}
