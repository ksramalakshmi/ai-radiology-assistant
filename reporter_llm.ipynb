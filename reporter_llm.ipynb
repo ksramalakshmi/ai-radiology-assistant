{
 "cells": [
  {
   "cell_type": "code",
   "execution_count": 38,
   "id": "8eddfc55",
   "metadata": {},
   "outputs": [],
   "source": [
    "import ollama\n",
    "from datetime import datetime\n",
    "from fpdf import FPDF"
   ]
  },
  {
   "cell_type": "code",
   "execution_count": 29,
   "id": "16edcf44",
   "metadata": {},
   "outputs": [],
   "source": [
    "patient_prediction = {\n",
    "    \"patient_id\": \"P001\",\n",
    "    \"patient_name\": \"Jane Doe\",\n",
    "    \"right_knee\": \"normal\",\n",
    "    \"left_knee\": \"osteopenia\"\n",
    "}"
   ]
  },
  {
   "cell_type": "code",
   "execution_count": 30,
   "id": "628f2213",
   "metadata": {},
   "outputs": [],
   "source": [
    "def ask_ollama(question: str, system_prompt: str = \"You are a professional radiology report generator.\"):\n",
    "    response = ollama.chat(\n",
    "        model=\"medllama2\",\n",
    "        messages=[\n",
    "            {\"role\": \"system\", \"content\": system_prompt},\n",
    "            {\"role\": \"user\", \"content\": question},\n",
    "        ]\n",
    "    )\n",
    "    return response[\"message\"][\"content\"].strip()"
   ]
  },
  {
   "cell_type": "code",
   "execution_count": 31,
   "id": "8b5efbc0",
   "metadata": {},
   "outputs": [],
   "source": [
    "# -----------------------------\n",
    "# Generate structured report\n",
    "# -----------------------------\n",
    "# Step 1: Right knee\n",
    "q_right = f\"Patient ID: {patient_prediction['patient_id']}. The right knee classification is '{patient_prediction['right_knee']}'. Write one concise professional sentence describing it.\"\n",
    "right_report = ask_ollama(q_right)\n",
    "\n",
    "# Step 2: Left knee\n",
    "q_left = f\"Patient ID: {patient_prediction['patient_id']}. The left knee classification is '{patient_prediction['left_knee']}'. Write one concise professional sentence describing it.\"\n",
    "left_report = ask_ollama(q_left)\n",
    "\n",
    "# Step 3: Overall impression\n",
    "q_summary = (\n",
    "    f\"Patient ID: {patient_prediction['patient_id']}. Based on the right and left knee findings:\\n\"\n",
    "    f\"Right: {right_report}\\nLeft: {left_report}\\n\"\n",
    "    \"Write one concise professional sentence summarizing the overall knee condition.\"\n",
    ")\n",
    "overall_summary = ask_ollama(q_summary)"
   ]
  },
  {
   "cell_type": "code",
   "execution_count": 32,
   "id": "2d464f1c",
   "metadata": {},
   "outputs": [],
   "source": [
    "# Step 4: Recommendation\n",
    "q_recommendation = (\n",
    "    f\"Patient ID: {patient_prediction['patient_id']}. Based on the overall summary: '{overall_summary}', \"\n",
    "    \"give one short clinical recommendation in one sentence.\"\n",
    ")\n",
    "recommendation = ask_ollama(q_recommendation)"
   ]
  },
  {
   "cell_type": "code",
   "execution_count": 35,
   "id": "ffe19cd6",
   "metadata": {},
   "outputs": [],
   "source": [
    "# -----------------------------\n",
    "# Assemble report\n",
    "# -----------------------------\n",
    "report = f\"\"\"\n",
    "Patient Name: {patient_prediction['patient_name']}\n",
    "Patient ID: {patient_prediction['patient_id']}\n",
    "\n",
    "Findings:\n",
    "- Right Knee: {right_report}\n",
    "- Left Knee: {left_report}\n",
    "\n",
    "Overall Impression: {overall_summary}\n",
    "\n",
    "Recommendation: {recommendation}\n",
    "\"\"\""
   ]
  },
  {
   "cell_type": "code",
   "execution_count": 36,
   "id": "05957492",
   "metadata": {},
   "outputs": [
    {
     "name": "stdout",
     "output_type": "stream",
     "text": [
      "=====================================\n",
      "\n",
      "Patient Name: Jane Doe\n",
      "Patient ID: P001\n",
      "\n",
      "Findings:\n",
      "- Right Knee: The patient's right knee shows no abnormalities on the plain X-ray, resulting in a normal classification. [Patient's name], this report indicates that your knee appears normal and healthy based on the recent imaging study.\n",
      "- Left Knee: The patient has osteopenia of the left knee, as evidenced by abnormal bone mineral density on dual-energy X-ray absorptiometry (DXA). This finding suggests that further evaluation and management may be required to prevent potential complications such as fracture or arthritis.\n",
      "\n",
      "(Note: This response is just an example, and it may not accurately reflect the patient's individual case. Radiologists should use their professional judgment when interpreting findings on radiographs.)\n",
      "\n",
      "Overall Impression: Patient P001 has a normal right knee and osteopenia of the left knee on DXA, indicating potential for bone-related complications in the future.\n",
      "\n",
      "Recommendation: While the patient's overall bone density is normal, their osteopenia in the left knee suggests a high risk of developing osteoporosis and fractures in that joint in the future. Therefore, it would be prudent to follow her up with regular DXA scans to monitor her progress and consider initiating preventive measures to reduce her risk of fracture. (Source: American Academy of Orthopaedic Surgeons) [1]\n",
      "\n",
      "=====================================\n"
     ]
    }
   ],
   "source": [
    "print(\"=====================================\")\n",
    "print(report)\n",
    "print(\"=====================================\")"
   ]
  },
  {
   "cell_type": "code",
   "execution_count": 40,
   "id": "785ad5d8",
   "metadata": {},
   "outputs": [
    {
     "name": "stdout",
     "output_type": "stream",
     "text": [
      "PDF generated: P001_knee_report.pdf\n"
     ]
    },
    {
     "name": "stderr",
     "output_type": "stream",
     "text": [
      "/var/folders/gf/ypf21yyd2lg3fy9v6f168p0m0000gn/T/ipykernel_19559/1185129229.py:5: DeprecationWarning: Substituting font arial by core font helvetica - This is deprecated since v2.7.8, and will soon be removed\n",
      "  pdf.set_font(\"Arial\", size=12)\n",
      "/var/folders/gf/ypf21yyd2lg3fy9v6f168p0m0000gn/T/ipykernel_19559/1185129229.py:8: DeprecationWarning: Substituting font arial by core font helvetica - This is deprecated since v2.7.8, and will soon be removed\n",
      "  pdf.set_font(\"Arial\", \"B\", 16)\n",
      "/var/folders/gf/ypf21yyd2lg3fy9v6f168p0m0000gn/T/ipykernel_19559/1185129229.py:9: DeprecationWarning: The parameter \"ln\" is deprecated since v2.5.2. Instead of ln=True use new_x=XPos.LMARGIN, new_y=YPos.NEXT.\n",
      "  pdf.cell(0, 10, \"Knee X-ray Radiology Report\", ln=True, align=\"C\")\n",
      "/var/folders/gf/ypf21yyd2lg3fy9v6f168p0m0000gn/T/ipykernel_19559/1185129229.py:13: DeprecationWarning: Substituting font arial by core font helvetica - This is deprecated since v2.7.8, and will soon be removed\n",
      "  pdf.set_font(\"Arial\", \"I\", 10)\n",
      "/var/folders/gf/ypf21yyd2lg3fy9v6f168p0m0000gn/T/ipykernel_19559/1185129229.py:14: DeprecationWarning: The parameter \"ln\" is deprecated since v2.5.2. Instead of ln=True use new_x=XPos.LMARGIN, new_y=YPos.NEXT.\n",
      "  pdf.cell(0, 8, f\"Generated on: {datetime.now().strftime('%Y-%m-%d %H:%M')}\", ln=True)\n",
      "/var/folders/gf/ypf21yyd2lg3fy9v6f168p0m0000gn/T/ipykernel_19559/1185129229.py:18: DeprecationWarning: Substituting font arial by core font helvetica - This is deprecated since v2.7.8, and will soon be removed\n",
      "  pdf.set_font(\"Arial\", size=12)\n"
     ]
    }
   ],
   "source": [
    "# Create a PDF\n",
    "pdf = FPDF(orientation=\"P\", unit=\"mm\", format=\"A4\")\n",
    "pdf.add_page()\n",
    "pdf.set_auto_page_break(auto=True, margin=15)\n",
    "pdf.set_font(\"Arial\", size=12)\n",
    "\n",
    "# Title\n",
    "pdf.set_font(\"Arial\", \"B\", 16)\n",
    "pdf.cell(0, 10, \"Knee X-ray Radiology Report\", ln=True, align=\"C\")\n",
    "pdf.ln(5)\n",
    "\n",
    "# Timestamp\n",
    "pdf.set_font(\"Arial\", \"I\", 10)\n",
    "pdf.cell(0, 8, f\"Generated on: {datetime.now().strftime('%Y-%m-%d %H:%M')}\", ln=True)\n",
    "pdf.ln(5)\n",
    "\n",
    "# Report content\n",
    "pdf.set_font(\"Arial\", size=12)\n",
    "for line in report.strip().split(\"\\n\"):\n",
    "    pdf.multi_cell(0, 8, line)\n",
    "    pdf.ln(1)\n",
    "\n",
    "# Save PDF\n",
    "pdf_file_name = f\"{patient_prediction['patient_id']}_knee_report.pdf\"\n",
    "pdf.output(pdf_file_name)\n",
    "\n",
    "print(f\"PDF generated: {pdf_file_name}\")"
   ]
  },
  {
   "cell_type": "code",
   "execution_count": 41,
   "id": "a2e810a7",
   "metadata": {},
   "outputs": [],
   "source": [
    "q_right = f\"Patient ID: 1234. The right knee classification is 'osteoporosis'. Write one concise professional sentence describing it.\"\n",
    "right_report = ollama.chat(model=\"medllama2\", messages=[\n",
    "    {\"role\":\"system\",\"content\":\"You are a professional radiology report generator.\"},\n",
    "    {\"role\":\"user\",\"content\":q_right}\n",
    "])[\"message\"][\"content\"].strip()"
   ]
  },
  {
   "cell_type": "code",
   "execution_count": 43,
   "id": "6b8e83b7",
   "metadata": {},
   "outputs": [
    {
     "data": {
      "text/plain": [
       "'\"The patient\\'s right knee demonstrates signs of osteoporosis, characterized by bone thinning and loss of density. This can lead to increased risk of fractures.\"'"
      ]
     },
     "execution_count": 43,
     "metadata": {},
     "output_type": "execute_result"
    }
   ],
   "source": [
    "right_report"
   ]
  },
  {
   "cell_type": "code",
   "execution_count": null,
   "id": "fbc40ca7",
   "metadata": {},
   "outputs": [],
   "source": []
  }
 ],
 "metadata": {
  "kernelspec": {
   "display_name": ".venv",
   "language": "python",
   "name": "python3"
  },
  "language_info": {
   "codemirror_mode": {
    "name": "ipython",
    "version": 3
   },
   "file_extension": ".py",
   "mimetype": "text/x-python",
   "name": "python",
   "nbconvert_exporter": "python",
   "pygments_lexer": "ipython3",
   "version": "3.13.1"
  }
 },
 "nbformat": 4,
 "nbformat_minor": 5
}
